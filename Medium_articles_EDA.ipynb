{
 "cells": [
  {
   "cell_type": "markdown",
   "id": "388c68ce",
   "metadata": {},
   "source": [
    "<b>Analysis of Medium Blogs<b>"
   ]
  },
  {
   "cell_type": "markdown",
   "id": "b1969987",
   "metadata": {},
   "source": [
    "Medium is an publishing platform which provides an active community for people to share their ideas and stories with each other. This dataset contains the information about articles published by some prominent publications in the year 2020. We will conduct an exploratory data analysis to gain some insights from the data which could be useful for someone who would want to start their journey of publishing articles on Medium.\n",
    "\n",
    "I will be using some python libraries like pandas, numpy, seaborn etc. for this analysis"
   ]
  },
  {
   "cell_type": "code",
   "execution_count": 1,
   "id": "9e5ab05a",
   "metadata": {},
   "outputs": [],
   "source": [
    "#Importing required libraries\n",
    "\n",
    "import pandas as pd\n",
    "import numpy as np\n",
    "import seaborn as sns\n",
    "import matplotlib.pyplot as plt\n",
    "import calendar\n",
    "import datetime\n",
    "import plotly.express as px\n",
    "\n",
    "import warnings\n",
    "warnings.filterwarnings(\"ignore\")"
   ]
  },
  {
   "cell_type": "code",
   "execution_count": 2,
   "id": "137a2e43",
   "metadata": {},
   "outputs": [],
   "source": [
    "#Reading the data\n",
    "\n",
    "medium=pd.read_csv(\"medium_data.csv\")"
   ]
  },
  {
   "cell_type": "code",
   "execution_count": 3,
   "id": "e6fa07ea",
   "metadata": {},
   "outputs": [
    {
     "data": {
      "text/plain": [
       "(11642, 9)"
      ]
     },
     "execution_count": 3,
     "metadata": {},
     "output_type": "execute_result"
    }
   ],
   "source": [
    "#Check size of the dataset\n",
    "\n",
    "medium.shape"
   ]
  },
  {
   "cell_type": "code",
   "execution_count": 4,
   "id": "66b383b9",
   "metadata": {},
   "outputs": [
    {
     "data": {
      "text/html": [
       "<div>\n",
       "<style scoped>\n",
       "    .dataframe tbody tr th:only-of-type {\n",
       "        vertical-align: middle;\n",
       "    }\n",
       "\n",
       "    .dataframe tbody tr th {\n",
       "        vertical-align: top;\n",
       "    }\n",
       "\n",
       "    .dataframe thead th {\n",
       "        text-align: right;\n",
       "    }\n",
       "</style>\n",
       "<table border=\"1\" class=\"dataframe\">\n",
       "  <thead>\n",
       "    <tr style=\"text-align: right;\">\n",
       "      <th></th>\n",
       "      <th>id</th>\n",
       "      <th>url</th>\n",
       "      <th>title</th>\n",
       "      <th>subtitle</th>\n",
       "      <th>claps</th>\n",
       "      <th>responses</th>\n",
       "      <th>reading_time</th>\n",
       "      <th>publication</th>\n",
       "      <th>date</th>\n",
       "    </tr>\n",
       "  </thead>\n",
       "  <tbody>\n",
       "    <tr>\n",
       "      <th>0</th>\n",
       "      <td>1</td>\n",
       "      <td>https://medium.datadriveninvestor.com/is-fasta...</td>\n",
       "      <td>Is FastAPI going to replace Django?</td>\n",
       "      <td>NaN</td>\n",
       "      <td>226</td>\n",
       "      <td>4</td>\n",
       "      <td>4</td>\n",
       "      <td>Data Driven Investor</td>\n",
       "      <td>2020-05-24</td>\n",
       "    </tr>\n",
       "    <tr>\n",
       "      <th>1</th>\n",
       "      <td>2</td>\n",
       "      <td>https://medium.datadriveninvestor.com/whats-th...</td>\n",
       "      <td>What’s the Best Way to Buy a Reliable Luxury Car?</td>\n",
       "      <td>The full cost of ownership makes buying brand-...</td>\n",
       "      <td>186</td>\n",
       "      <td>3</td>\n",
       "      <td>10</td>\n",
       "      <td>Data Driven Investor</td>\n",
       "      <td>2020-05-24</td>\n",
       "    </tr>\n",
       "    <tr>\n",
       "      <th>2</th>\n",
       "      <td>3</td>\n",
       "      <td>https://medium.datadriveninvestor.com/credit-r...</td>\n",
       "      <td>Credit Risk Assessment</td>\n",
       "      <td>NaN</td>\n",
       "      <td>76</td>\n",
       "      <td>0</td>\n",
       "      <td>7</td>\n",
       "      <td>Data Driven Investor</td>\n",
       "      <td>2020-05-24</td>\n",
       "    </tr>\n",
       "    <tr>\n",
       "      <th>3</th>\n",
       "      <td>4</td>\n",
       "      <td>https://medium.datadriveninvestor.com/cash-is-...</td>\n",
       "      <td>Cash is Trash or Cash is King? What´s it gonna...</td>\n",
       "      <td>NaN</td>\n",
       "      <td>139</td>\n",
       "      <td>0</td>\n",
       "      <td>6</td>\n",
       "      <td>Data Driven Investor</td>\n",
       "      <td>2020-05-24</td>\n",
       "    </tr>\n",
       "    <tr>\n",
       "      <th>4</th>\n",
       "      <td>5</td>\n",
       "      <td>https://medium.datadriveninvestor.com/how-to-b...</td>\n",
       "      <td>How to be Flipin’ awesome for your fans</td>\n",
       "      <td>Flipboard magazines capitalize on marketing vi...</td>\n",
       "      <td>34</td>\n",
       "      <td>0</td>\n",
       "      <td>5</td>\n",
       "      <td>Data Driven Investor</td>\n",
       "      <td>2020-05-24</td>\n",
       "    </tr>\n",
       "  </tbody>\n",
       "</table>\n",
       "</div>"
      ],
      "text/plain": [
       "   id                                                url  \\\n",
       "0   1  https://medium.datadriveninvestor.com/is-fasta...   \n",
       "1   2  https://medium.datadriveninvestor.com/whats-th...   \n",
       "2   3  https://medium.datadriveninvestor.com/credit-r...   \n",
       "3   4  https://medium.datadriveninvestor.com/cash-is-...   \n",
       "4   5  https://medium.datadriveninvestor.com/how-to-b...   \n",
       "\n",
       "                                               title  \\\n",
       "0                Is FastAPI going to replace Django?   \n",
       "1  What’s the Best Way to Buy a Reliable Luxury Car?   \n",
       "2                             Credit Risk Assessment   \n",
       "3  Cash is Trash or Cash is King? What´s it gonna...   \n",
       "4            How to be Flipin’ awesome for your fans   \n",
       "\n",
       "                                            subtitle  claps  responses  \\\n",
       "0                                                NaN    226          4   \n",
       "1  The full cost of ownership makes buying brand-...    186          3   \n",
       "2                                                NaN     76          0   \n",
       "3                                                NaN    139          0   \n",
       "4  Flipboard magazines capitalize on marketing vi...     34          0   \n",
       "\n",
       "   reading_time           publication        date  \n",
       "0             4  Data Driven Investor  2020-05-24  \n",
       "1            10  Data Driven Investor  2020-05-24  \n",
       "2             7  Data Driven Investor  2020-05-24  \n",
       "3             6  Data Driven Investor  2020-05-24  \n",
       "4             5  Data Driven Investor  2020-05-24  "
      ]
     },
     "execution_count": 4,
     "metadata": {},
     "output_type": "execute_result"
    }
   ],
   "source": [
    "#Getting familiar with the datset\n",
    "\n",
    "medium.head()"
   ]
  },
  {
   "cell_type": "code",
   "execution_count": 5,
   "id": "289c69ad",
   "metadata": {},
   "outputs": [
    {
     "name": "stdout",
     "output_type": "stream",
     "text": [
      "<class 'pandas.core.frame.DataFrame'>\n",
      "RangeIndex: 11642 entries, 0 to 11641\n",
      "Data columns (total 9 columns):\n",
      " #   Column        Non-Null Count  Dtype \n",
      "---  ------        --------------  ----- \n",
      " 0   id            11642 non-null  int64 \n",
      " 1   url           11642 non-null  object\n",
      " 2   title         11642 non-null  object\n",
      " 3   subtitle      6486 non-null   object\n",
      " 4   claps         11642 non-null  int64 \n",
      " 5   responses     11642 non-null  int64 \n",
      " 6   reading_time  11642 non-null  int64 \n",
      " 7   publication   11642 non-null  object\n",
      " 8   date          11642 non-null  object\n",
      "dtypes: int64(4), object(5)\n",
      "memory usage: 818.7+ KB\n"
     ]
    }
   ],
   "source": [
    "#Getting information about columns in the dataset\n",
    "\n",
    "medium.info()"
   ]
  },
  {
   "cell_type": "markdown",
   "id": "bed7168f",
   "metadata": {},
   "source": [
    "We can understand from the info that date column has object datatype, we need to convert to datetime type to use it for further analysis. Before that, we will create a copy of the dataset, as it is not a good practice to work on original dataset"
   ]
  },
  {
   "cell_type": "code",
   "execution_count": 6,
   "id": "3eee5c7c",
   "metadata": {},
   "outputs": [
    {
     "name": "stdout",
     "output_type": "stream",
     "text": [
      "<class 'pandas.core.frame.DataFrame'>\n",
      "RangeIndex: 11642 entries, 0 to 11641\n",
      "Data columns (total 9 columns):\n",
      " #   Column        Non-Null Count  Dtype \n",
      "---  ------        --------------  ----- \n",
      " 0   id            11642 non-null  int64 \n",
      " 1   url           11642 non-null  object\n",
      " 2   title         11642 non-null  object\n",
      " 3   subtitle      6486 non-null   object\n",
      " 4   claps         11642 non-null  int64 \n",
      " 5   responses     11642 non-null  int64 \n",
      " 6   reading_time  11642 non-null  int64 \n",
      " 7   publication   11642 non-null  object\n",
      " 8   date          11642 non-null  object\n",
      "dtypes: int64(4), object(5)\n",
      "memory usage: 818.7+ KB\n"
     ]
    }
   ],
   "source": [
    "#Copying the dataset and checking if it's correctly copied\n",
    "\n",
    "medium_df=medium.copy()\n",
    "medium_df.info()"
   ]
  },
  {
   "cell_type": "code",
   "execution_count": 7,
   "id": "3e0651b3",
   "metadata": {},
   "outputs": [
    {
     "name": "stdout",
     "output_type": "stream",
     "text": [
      "<class 'pandas.core.frame.DataFrame'>\n",
      "RangeIndex: 11642 entries, 0 to 11641\n",
      "Data columns (total 9 columns):\n",
      " #   Column        Non-Null Count  Dtype         \n",
      "---  ------        --------------  -----         \n",
      " 0   id            11642 non-null  int64         \n",
      " 1   url           11642 non-null  object        \n",
      " 2   title         11642 non-null  object        \n",
      " 3   subtitle      6486 non-null   object        \n",
      " 4   claps         11642 non-null  int64         \n",
      " 5   responses     11642 non-null  int64         \n",
      " 6   reading_time  11642 non-null  int64         \n",
      " 7   publication   11642 non-null  object        \n",
      " 8   date          11642 non-null  datetime64[ns]\n",
      "dtypes: datetime64[ns](1), int64(4), object(4)\n",
      "memory usage: 818.7+ KB\n"
     ]
    }
   ],
   "source": [
    "#Converting datatype of date column\n",
    "\n",
    "medium_df[\"date\"]=pd.to_datetime(medium_df[\"date\"])\n",
    "medium_df.info()"
   ]
  },
  {
   "cell_type": "code",
   "execution_count": 8,
   "id": "aef59719",
   "metadata": {},
   "outputs": [
    {
     "data": {
      "text/html": [
       "<div>\n",
       "<style scoped>\n",
       "    .dataframe tbody tr th:only-of-type {\n",
       "        vertical-align: middle;\n",
       "    }\n",
       "\n",
       "    .dataframe tbody tr th {\n",
       "        vertical-align: top;\n",
       "    }\n",
       "\n",
       "    .dataframe thead th {\n",
       "        text-align: right;\n",
       "    }\n",
       "</style>\n",
       "<table border=\"1\" class=\"dataframe\">\n",
       "  <thead>\n",
       "    <tr style=\"text-align: right;\">\n",
       "      <th></th>\n",
       "      <th>id</th>\n",
       "      <th>url</th>\n",
       "      <th>title</th>\n",
       "      <th>subtitle</th>\n",
       "      <th>claps</th>\n",
       "      <th>responses</th>\n",
       "      <th>reading_time</th>\n",
       "      <th>publication</th>\n",
       "      <th>date</th>\n",
       "    </tr>\n",
       "  </thead>\n",
       "  <tbody>\n",
       "    <tr>\n",
       "      <th>353</th>\n",
       "      <td>354</td>\n",
       "      <td>https://betterhumans.pub/how-i-completely-tran...</td>\n",
       "      <td>How I Completely Transformed My Body in One Year</td>\n",
       "      <td>And if I can do it, you definitely can</td>\n",
       "      <td>22000</td>\n",
       "      <td>105</td>\n",
       "      <td>11</td>\n",
       "      <td>Better Humans</td>\n",
       "      <td>2020-01-03</td>\n",
       "    </tr>\n",
       "    <tr>\n",
       "      <th>354</th>\n",
       "      <td>355</td>\n",
       "      <td>https://betterhumans.pub/my-21-day-omad-journe...</td>\n",
       "      <td>My 21 Day OMAD Journey to Weight Loss and Emot...</td>\n",
       "      <td>How this eating plan can help you…</td>\n",
       "      <td>1300</td>\n",
       "      <td>7</td>\n",
       "      <td>10</td>\n",
       "      <td>Better Humans</td>\n",
       "      <td>2020-01-03</td>\n",
       "    </tr>\n",
       "    <tr>\n",
       "      <th>355</th>\n",
       "      <td>356</td>\n",
       "      <td>https://betterhumans.pub/the-biology-of-mindfu...</td>\n",
       "      <td>The Biology of Mindfulness and Mindlessness — ...</td>\n",
       "      <td>Powerful evidence based…</td>\n",
       "      <td>6200</td>\n",
       "      <td>29</td>\n",
       "      <td>11</td>\n",
       "      <td>Better Humans</td>\n",
       "      <td>2020-01-03</td>\n",
       "    </tr>\n",
       "    <tr>\n",
       "      <th>356</th>\n",
       "      <td>357</td>\n",
       "      <td>https://betterhumans.pub/the-best-time-of-day-...</td>\n",
       "      <td>The Best Time of Day to Hit the Gym May Surpri...</td>\n",
       "      <td>How scheduling your workouts differently can…</td>\n",
       "      <td>3300</td>\n",
       "      <td>18</td>\n",
       "      <td>10</td>\n",
       "      <td>Better Humans</td>\n",
       "      <td>2020-01-03</td>\n",
       "    </tr>\n",
       "    <tr>\n",
       "      <th>357</th>\n",
       "      <td>358</td>\n",
       "      <td>https://betterhumans.pub/how-to-set-up-your-wi...</td>\n",
       "      <td>How to Set Up Your Windows 10 PC to Maximize P...</td>\n",
       "      <td>Save time and end distractions with this…</td>\n",
       "      <td>1300</td>\n",
       "      <td>7</td>\n",
       "      <td>12</td>\n",
       "      <td>Better Humans</td>\n",
       "      <td>2020-01-03</td>\n",
       "    </tr>\n",
       "    <tr>\n",
       "      <th>...</th>\n",
       "      <td>...</td>\n",
       "      <td>...</td>\n",
       "      <td>...</td>\n",
       "      <td>...</td>\n",
       "      <td>...</td>\n",
       "      <td>...</td>\n",
       "      <td>...</td>\n",
       "      <td>...</td>\n",
       "      <td>...</td>\n",
       "    </tr>\n",
       "    <tr>\n",
       "      <th>11344</th>\n",
       "      <td>11345</td>\n",
       "      <td>https://betterhumans.pub/this-is-how-to-succes...</td>\n",
       "      <td>This is How to Successfully Move to Another Co...</td>\n",
       "      <td>A blueprint for happiness beyond the American…</td>\n",
       "      <td>1200</td>\n",
       "      <td>7</td>\n",
       "      <td>11</td>\n",
       "      <td>Better Humans</td>\n",
       "      <td>2020-10-31</td>\n",
       "    </tr>\n",
       "    <tr>\n",
       "      <th>11402</th>\n",
       "      <td>11403</td>\n",
       "      <td>https://medium.datadriveninvestor.com/big-o-no...</td>\n",
       "      <td>Big O Notation</td>\n",
       "      <td>Arrays and their Built-in Methods</td>\n",
       "      <td>76</td>\n",
       "      <td>0</td>\n",
       "      <td>4</td>\n",
       "      <td>Data Driven Investor</td>\n",
       "      <td>2020-11-02</td>\n",
       "    </tr>\n",
       "    <tr>\n",
       "      <th>11434</th>\n",
       "      <td>11435</td>\n",
       "      <td>https://bettermarketing.pub/how-bikini-outrage...</td>\n",
       "      <td>How Bikini Outrage Became a Crude Marketer’s B...</td>\n",
       "      <td>Exploring the value in reactionary branding.</td>\n",
       "      <td>2600</td>\n",
       "      <td>12</td>\n",
       "      <td>5</td>\n",
       "      <td>Better Marketing</td>\n",
       "      <td>2020-11-02</td>\n",
       "    </tr>\n",
       "    <tr>\n",
       "      <th>11435</th>\n",
       "      <td>11436</td>\n",
       "      <td>https://bettermarketing.pub/linkedin-has-effec...</td>\n",
       "      <td>LinkedIn Has Effectively Deactivated a Core Fe...</td>\n",
       "      <td>It’s a problem — and an…</td>\n",
       "      <td>4300</td>\n",
       "      <td>20</td>\n",
       "      <td>6</td>\n",
       "      <td>Better Marketing</td>\n",
       "      <td>2020-11-02</td>\n",
       "    </tr>\n",
       "    <tr>\n",
       "      <th>11545</th>\n",
       "      <td>11546</td>\n",
       "      <td>https://betterhumans.pub/how-to-integrate-a-mo...</td>\n",
       "      <td>How to Integrate a Morning Routine Into Your Life</td>\n",
       "      <td>Become disciplined and turn the proactive mind...</td>\n",
       "      <td>1100</td>\n",
       "      <td>3</td>\n",
       "      <td>17</td>\n",
       "      <td>Better Humans</td>\n",
       "      <td>2020-02-18</td>\n",
       "    </tr>\n",
       "  </tbody>\n",
       "</table>\n",
       "<p>337 rows × 9 columns</p>\n",
       "</div>"
      ],
      "text/plain": [
       "          id                                                url  \\\n",
       "353      354  https://betterhumans.pub/how-i-completely-tran...   \n",
       "354      355  https://betterhumans.pub/my-21-day-omad-journe...   \n",
       "355      356  https://betterhumans.pub/the-biology-of-mindfu...   \n",
       "356      357  https://betterhumans.pub/the-best-time-of-day-...   \n",
       "357      358  https://betterhumans.pub/how-to-set-up-your-wi...   \n",
       "...      ...                                                ...   \n",
       "11344  11345  https://betterhumans.pub/this-is-how-to-succes...   \n",
       "11402  11403  https://medium.datadriveninvestor.com/big-o-no...   \n",
       "11434  11435  https://bettermarketing.pub/how-bikini-outrage...   \n",
       "11435  11436  https://bettermarketing.pub/linkedin-has-effec...   \n",
       "11545  11546  https://betterhumans.pub/how-to-integrate-a-mo...   \n",
       "\n",
       "                                                   title  \\\n",
       "353     How I Completely Transformed My Body in One Year   \n",
       "354    My 21 Day OMAD Journey to Weight Loss and Emot...   \n",
       "355    The Biology of Mindfulness and Mindlessness — ...   \n",
       "356    The Best Time of Day to Hit the Gym May Surpri...   \n",
       "357    How to Set Up Your Windows 10 PC to Maximize P...   \n",
       "...                                                  ...   \n",
       "11344  This is How to Successfully Move to Another Co...   \n",
       "11402                                     Big O Notation   \n",
       "11434  How Bikini Outrage Became a Crude Marketer’s B...   \n",
       "11435  LinkedIn Has Effectively Deactivated a Core Fe...   \n",
       "11545  How to Integrate a Morning Routine Into Your Life   \n",
       "\n",
       "                                                subtitle  claps  responses  \\\n",
       "353               And if I can do it, you definitely can  22000        105   \n",
       "354                   How this eating plan can help you…   1300          7   \n",
       "355                             Powerful evidence based…   6200         29   \n",
       "356        How scheduling your workouts differently can…   3300         18   \n",
       "357            Save time and end distractions with this…   1300          7   \n",
       "...                                                  ...    ...        ...   \n",
       "11344     A blueprint for happiness beyond the American…   1200          7   \n",
       "11402                  Arrays and their Built-in Methods     76          0   \n",
       "11434       Exploring the value in reactionary branding.   2600         12   \n",
       "11435                           It’s a problem — and an…   4300         20   \n",
       "11545  Become disciplined and turn the proactive mind...   1100          3   \n",
       "\n",
       "       reading_time           publication       date  \n",
       "353              11         Better Humans 2020-01-03  \n",
       "354              10         Better Humans 2020-01-03  \n",
       "355              11         Better Humans 2020-01-03  \n",
       "356              10         Better Humans 2020-01-03  \n",
       "357              12         Better Humans 2020-01-03  \n",
       "...             ...                   ...        ...  \n",
       "11344            11         Better Humans 2020-10-31  \n",
       "11402             4  Data Driven Investor 2020-11-02  \n",
       "11434             5      Better Marketing 2020-11-02  \n",
       "11435             6      Better Marketing 2020-11-02  \n",
       "11545            17         Better Humans 2020-02-18  \n",
       "\n",
       "[337 rows x 9 columns]"
      ]
     },
     "execution_count": 8,
     "metadata": {},
     "output_type": "execute_result"
    }
   ],
   "source": [
    "#Checking for duplicate values\n",
    "\n",
    "medium_df[medium_df.duplicated([\"title\",\"publication\"])]"
   ]
  },
  {
   "cell_type": "code",
   "execution_count": 9,
   "id": "7a0cb163",
   "metadata": {},
   "outputs": [
    {
     "data": {
      "text/html": [
       "<div>\n",
       "<style scoped>\n",
       "    .dataframe tbody tr th:only-of-type {\n",
       "        vertical-align: middle;\n",
       "    }\n",
       "\n",
       "    .dataframe tbody tr th {\n",
       "        vertical-align: top;\n",
       "    }\n",
       "\n",
       "    .dataframe thead th {\n",
       "        text-align: right;\n",
       "    }\n",
       "</style>\n",
       "<table border=\"1\" class=\"dataframe\">\n",
       "  <thead>\n",
       "    <tr style=\"text-align: right;\">\n",
       "      <th></th>\n",
       "      <th>id</th>\n",
       "      <th>url</th>\n",
       "      <th>title</th>\n",
       "      <th>subtitle</th>\n",
       "      <th>claps</th>\n",
       "      <th>responses</th>\n",
       "      <th>reading_time</th>\n",
       "      <th>publication</th>\n",
       "      <th>date</th>\n",
       "    </tr>\n",
       "  </thead>\n",
       "  <tbody>\n",
       "  </tbody>\n",
       "</table>\n",
       "</div>"
      ],
      "text/plain": [
       "Empty DataFrame\n",
       "Columns: [id, url, title, subtitle, claps, responses, reading_time, publication, date]\n",
       "Index: []"
      ]
     },
     "execution_count": 9,
     "metadata": {},
     "output_type": "execute_result"
    }
   ],
   "source": [
    "#Dropping Duplicate rows and confirming\n",
    "\n",
    "medium_df.drop_duplicates(subset=[\"title\",\"publication\"], keep=\"first\", inplace=True)\n",
    "medium_df[medium_df.duplicated([\"title\",\"publication\"])]"
   ]
  },
  {
   "cell_type": "code",
   "execution_count": 10,
   "id": "bb1c54f4",
   "metadata": {},
   "outputs": [],
   "source": [
    "#Retrieving month,day,titlelength\n",
    "#Creating with_subtitle to determind if the article has subtitle or not\n",
    "\n",
    "medium_df[\"title_length\"]=medium_df[\"title\"].apply(len)\n",
    "medium_df['month'] = pd.DatetimeIndex(medium_df['date']).month\n",
    "medium_df['day'] = pd.DatetimeIndex(medium_df['date']).day\n",
    "\n",
    "medium_df[\"with_subtitle\"]=np.where(medium_df[\"subtitle\"].isnull(),\"No\",\"Yes\")"
   ]
  },
  {
   "cell_type": "code",
   "execution_count": 11,
   "id": "6dce4e69",
   "metadata": {},
   "outputs": [
    {
     "data": {
      "text/html": [
       "<div>\n",
       "<style scoped>\n",
       "    .dataframe tbody tr th:only-of-type {\n",
       "        vertical-align: middle;\n",
       "    }\n",
       "\n",
       "    .dataframe tbody tr th {\n",
       "        vertical-align: top;\n",
       "    }\n",
       "\n",
       "    .dataframe thead th {\n",
       "        text-align: right;\n",
       "    }\n",
       "</style>\n",
       "<table border=\"1\" class=\"dataframe\">\n",
       "  <thead>\n",
       "    <tr style=\"text-align: right;\">\n",
       "      <th></th>\n",
       "      <th>index</th>\n",
       "      <th>id</th>\n",
       "      <th>url</th>\n",
       "      <th>title</th>\n",
       "      <th>subtitle</th>\n",
       "      <th>claps</th>\n",
       "      <th>responses</th>\n",
       "      <th>reading_time</th>\n",
       "      <th>publication</th>\n",
       "      <th>date</th>\n",
       "      <th>title_length</th>\n",
       "      <th>month</th>\n",
       "      <th>day</th>\n",
       "      <th>with_subtitle</th>\n",
       "    </tr>\n",
       "  </thead>\n",
       "  <tbody>\n",
       "    <tr>\n",
       "      <th>0</th>\n",
       "      <td>3613</td>\n",
       "      <td>3614</td>\n",
       "      <td>https://medium.com/swlh/why-happiness-doesnt-c...</td>\n",
       "      <td>Why Happiness Doesn’t Come in Square Feet</td>\n",
       "      <td>…you would eat onion leaves or water-lily stem...</td>\n",
       "      <td>67</td>\n",
       "      <td>0</td>\n",
       "      <td>7</td>\n",
       "      <td>The Startup</td>\n",
       "      <td>2020-01-23</td>\n",
       "      <td>41</td>\n",
       "      <td>1</td>\n",
       "      <td>23</td>\n",
       "      <td>Yes</td>\n",
       "    </tr>\n",
       "    <tr>\n",
       "      <th>1</th>\n",
       "      <td>7823</td>\n",
       "      <td>7824</td>\n",
       "      <td>https://medium.com/swlh/things-i-learned-from-...</td>\n",
       "      <td>Things I Learned from a Year of Working as a R...</td>\n",
       "      <td>NaN</td>\n",
       "      <td>215</td>\n",
       "      <td>1</td>\n",
       "      <td>10</td>\n",
       "      <td>The Startup</td>\n",
       "      <td>2020-01-15</td>\n",
       "      <td>62</td>\n",
       "      <td>1</td>\n",
       "      <td>15</td>\n",
       "      <td>No</td>\n",
       "    </tr>\n",
       "    <tr>\n",
       "      <th>2</th>\n",
       "      <td>7824</td>\n",
       "      <td>7825</td>\n",
       "      <td>https://medium.com/swlh/how-to-write-a-book-re...</td>\n",
       "      <td>How To Write A Book Review</td>\n",
       "      <td>Have you ever wanted to write a book review? N...</td>\n",
       "      <td>80</td>\n",
       "      <td>3</td>\n",
       "      <td>6</td>\n",
       "      <td>The Startup</td>\n",
       "      <td>2020-01-15</td>\n",
       "      <td>26</td>\n",
       "      <td>1</td>\n",
       "      <td>15</td>\n",
       "      <td>Yes</td>\n",
       "    </tr>\n",
       "    <tr>\n",
       "      <th>3</th>\n",
       "      <td>7825</td>\n",
       "      <td>7826</td>\n",
       "      <td>https://medium.com/swlh/essential-git-fu-for-t...</td>\n",
       "      <td>Essential Git fu for technical writers</td>\n",
       "      <td>Nope, this is not another Git tutorial. I want...</td>\n",
       "      <td>118</td>\n",
       "      <td>0</td>\n",
       "      <td>6</td>\n",
       "      <td>The Startup</td>\n",
       "      <td>2020-01-15</td>\n",
       "      <td>38</td>\n",
       "      <td>1</td>\n",
       "      <td>15</td>\n",
       "      <td>Yes</td>\n",
       "    </tr>\n",
       "    <tr>\n",
       "      <th>4</th>\n",
       "      <td>7826</td>\n",
       "      <td>7827</td>\n",
       "      <td>https://medium.com/swlh/value-and-reference-ty...</td>\n",
       "      <td>Value and Reference Types in Swift</td>\n",
       "      <td>Copy or reference?</td>\n",
       "      <td>81</td>\n",
       "      <td>0</td>\n",
       "      <td>6</td>\n",
       "      <td>The Startup</td>\n",
       "      <td>2020-01-15</td>\n",
       "      <td>34</td>\n",
       "      <td>1</td>\n",
       "      <td>15</td>\n",
       "      <td>Yes</td>\n",
       "    </tr>\n",
       "    <tr>\n",
       "      <th>...</th>\n",
       "      <td>...</td>\n",
       "      <td>...</td>\n",
       "      <td>...</td>\n",
       "      <td>...</td>\n",
       "      <td>...</td>\n",
       "      <td>...</td>\n",
       "      <td>...</td>\n",
       "      <td>...</td>\n",
       "      <td>...</td>\n",
       "      <td>...</td>\n",
       "      <td>...</td>\n",
       "      <td>...</td>\n",
       "      <td>...</td>\n",
       "      <td>...</td>\n",
       "    </tr>\n",
       "    <tr>\n",
       "      <th>11300</th>\n",
       "      <td>148</td>\n",
       "      <td>149</td>\n",
       "      <td>https://medium.datadriveninvestor.com/life-les...</td>\n",
       "      <td>Life lessons to be learnt from Kung Fu Panda</td>\n",
       "      <td>NaN</td>\n",
       "      <td>81</td>\n",
       "      <td>0</td>\n",
       "      <td>11</td>\n",
       "      <td>Data Driven Investor</td>\n",
       "      <td>2020-12-29</td>\n",
       "      <td>44</td>\n",
       "      <td>12</td>\n",
       "      <td>29</td>\n",
       "      <td>No</td>\n",
       "    </tr>\n",
       "    <tr>\n",
       "      <th>11301</th>\n",
       "      <td>149</td>\n",
       "      <td>150</td>\n",
       "      <td>https://medium.datadriveninvestor.com/can-whit...</td>\n",
       "      <td>Can White People Be Terrorists?</td>\n",
       "      <td>In America, the Answer Seems to be NO!</td>\n",
       "      <td>623</td>\n",
       "      <td>10</td>\n",
       "      <td>4</td>\n",
       "      <td>Data Driven Investor</td>\n",
       "      <td>2020-12-29</td>\n",
       "      <td>31</td>\n",
       "      <td>12</td>\n",
       "      <td>29</td>\n",
       "      <td>Yes</td>\n",
       "    </tr>\n",
       "    <tr>\n",
       "      <th>11302</th>\n",
       "      <td>150</td>\n",
       "      <td>151</td>\n",
       "      <td>https://medium.datadriveninvestor.com/5-most-i...</td>\n",
       "      <td>5 Most Influential Books I Read in 2020</td>\n",
       "      <td>NaN</td>\n",
       "      <td>244</td>\n",
       "      <td>6</td>\n",
       "      <td>14</td>\n",
       "      <td>Data Driven Investor</td>\n",
       "      <td>2020-12-29</td>\n",
       "      <td>39</td>\n",
       "      <td>12</td>\n",
       "      <td>29</td>\n",
       "      <td>No</td>\n",
       "    </tr>\n",
       "    <tr>\n",
       "      <th>11303</th>\n",
       "      <td>1835</td>\n",
       "      <td>1836</td>\n",
       "      <td>https://medium.com/swlh/bash-speedup-14179a2dba68</td>\n",
       "      <td>Bash Speedup</td>\n",
       "      <td>NaN</td>\n",
       "      <td>33</td>\n",
       "      <td>0</td>\n",
       "      <td>5</td>\n",
       "      <td>The Startup</td>\n",
       "      <td>2020-12-24</td>\n",
       "      <td>12</td>\n",
       "      <td>12</td>\n",
       "      <td>24</td>\n",
       "      <td>No</td>\n",
       "    </tr>\n",
       "    <tr>\n",
       "      <th>11304</th>\n",
       "      <td>6621</td>\n",
       "      <td>6622</td>\n",
       "      <td>https://medium.com/swlh/getting-started-with-k...</td>\n",
       "      <td>Getting Started With Kubernetes</td>\n",
       "      <td>NaN</td>\n",
       "      <td>171</td>\n",
       "      <td>0</td>\n",
       "      <td>4</td>\n",
       "      <td>The Startup</td>\n",
       "      <td>2020-12-27</td>\n",
       "      <td>31</td>\n",
       "      <td>12</td>\n",
       "      <td>27</td>\n",
       "      <td>No</td>\n",
       "    </tr>\n",
       "  </tbody>\n",
       "</table>\n",
       "<p>11305 rows × 14 columns</p>\n",
       "</div>"
      ],
      "text/plain": [
       "       index    id                                                url  \\\n",
       "0       3613  3614  https://medium.com/swlh/why-happiness-doesnt-c...   \n",
       "1       7823  7824  https://medium.com/swlh/things-i-learned-from-...   \n",
       "2       7824  7825  https://medium.com/swlh/how-to-write-a-book-re...   \n",
       "3       7825  7826  https://medium.com/swlh/essential-git-fu-for-t...   \n",
       "4       7826  7827  https://medium.com/swlh/value-and-reference-ty...   \n",
       "...      ...   ...                                                ...   \n",
       "11300    148   149  https://medium.datadriveninvestor.com/life-les...   \n",
       "11301    149   150  https://medium.datadriveninvestor.com/can-whit...   \n",
       "11302    150   151  https://medium.datadriveninvestor.com/5-most-i...   \n",
       "11303   1835  1836  https://medium.com/swlh/bash-speedup-14179a2dba68   \n",
       "11304   6621  6622  https://medium.com/swlh/getting-started-with-k...   \n",
       "\n",
       "                                                   title  \\\n",
       "0              Why Happiness Doesn’t Come in Square Feet   \n",
       "1      Things I Learned from a Year of Working as a R...   \n",
       "2                             How To Write A Book Review   \n",
       "3                 Essential Git fu for technical writers   \n",
       "4                     Value and Reference Types in Swift   \n",
       "...                                                  ...   \n",
       "11300       Life lessons to be learnt from Kung Fu Panda   \n",
       "11301                    Can White People Be Terrorists?   \n",
       "11302            5 Most Influential Books I Read in 2020   \n",
       "11303                                       Bash Speedup   \n",
       "11304                    Getting Started With Kubernetes   \n",
       "\n",
       "                                                subtitle  claps  responses  \\\n",
       "0      …you would eat onion leaves or water-lily stem...     67          0   \n",
       "1                                                    NaN    215          1   \n",
       "2      Have you ever wanted to write a book review? N...     80          3   \n",
       "3      Nope, this is not another Git tutorial. I want...    118          0   \n",
       "4                                     Copy or reference?     81          0   \n",
       "...                                                  ...    ...        ...   \n",
       "11300                                                NaN     81          0   \n",
       "11301             In America, the Answer Seems to be NO!    623         10   \n",
       "11302                                                NaN    244          6   \n",
       "11303                                                NaN     33          0   \n",
       "11304                                                NaN    171          0   \n",
       "\n",
       "       reading_time           publication       date  title_length  month  \\\n",
       "0                 7           The Startup 2020-01-23            41      1   \n",
       "1                10           The Startup 2020-01-15            62      1   \n",
       "2                 6           The Startup 2020-01-15            26      1   \n",
       "3                 6           The Startup 2020-01-15            38      1   \n",
       "4                 6           The Startup 2020-01-15            34      1   \n",
       "...             ...                   ...        ...           ...    ...   \n",
       "11300            11  Data Driven Investor 2020-12-29            44     12   \n",
       "11301             4  Data Driven Investor 2020-12-29            31     12   \n",
       "11302            14  Data Driven Investor 2020-12-29            39     12   \n",
       "11303             5           The Startup 2020-12-24            12     12   \n",
       "11304             4           The Startup 2020-12-27            31     12   \n",
       "\n",
       "       day with_subtitle  \n",
       "0       23           Yes  \n",
       "1       15            No  \n",
       "2       15           Yes  \n",
       "3       15           Yes  \n",
       "4       15           Yes  \n",
       "...    ...           ...  \n",
       "11300   29            No  \n",
       "11301   29           Yes  \n",
       "11302   29            No  \n",
       "11303   24            No  \n",
       "11304   27            No  \n",
       "\n",
       "[11305 rows x 14 columns]"
      ]
     },
     "execution_count": 11,
     "metadata": {},
     "output_type": "execute_result"
    }
   ],
   "source": [
    "#Sorting values by month\n",
    "\n",
    "medium_df.sort_values(by= 'month', ascending = True).reset_index()\n"
   ]
  },
  {
   "cell_type": "markdown",
   "id": "2c90ab24",
   "metadata": {},
   "source": [
    "<b>Exploratory Data Analysis<b>"
   ]
  },
  {
   "cell_type": "markdown",
   "id": "808f0932",
   "metadata": {},
   "source": [
    "Let us conduct some exploratory data analysis"
   ]
  },
  {
   "cell_type": "code",
   "execution_count": 13,
   "id": "1f6b8186",
   "metadata": {},
   "outputs": [
    {
     "data": {
      "image/png": "[encoded data removed]",
      "text/plain": [
       "<Figure size 432x288 with 1 Axes>"
      ]
     },
     "metadata": {
      "needs_background": "light"
     },
     "output_type": "display_data"
    },
    {
     "data": {
      "image/png": "[encoded data removed]",
      "text/plain": [
       "<Figure size 432x288 with 1 Axes>"
      ]
     },
     "metadata": {
      "needs_background": "light"
     },
     "output_type": "display_data"
    },
    {
     "data": {
      "image/png": "[encoded data removed]",
      "text/plain": [
       "<Figure size 432x288 with 1 Axes>"
      ]
     },
     "metadata": {
      "needs_background": "light"
     },
     "output_type": "display_data"
    }
   ],
   "source": [
    "#Check the distribution of claps,responses and reading time column\n",
    "\n",
    "cols=[\"claps\",\"responses\",\"reading_time\"]\n",
    "\n",
    "for k in cols:\n",
    "    plt.hist(medium_df[k])\n",
    "    plt.ylabel(\"Count\")\n",
    "    plt.xlabel(k)\n",
    "    plt.show()"
   ]
  },
  {
   "cell_type": "code",
   "execution_count": 20,
   "id": "daae31ed",
   "metadata": {},
   "outputs": [
    {
     "data": {
      "text/plain": [
       "(array([0, 1, 2, 3, 4]),\n",
       " [Text(0, 0, 'Data Driven Investor'),\n",
       "  Text(1, 0, 'Better Humans'),\n",
       "  Text(2, 0, 'Better Marketing'),\n",
       "  Text(3, 0, 'UX Collective'),\n",
       "  Text(4, 0, 'The Startup')])"
      ]
     },
     "execution_count": 20,
     "metadata": {},
     "output_type": "execute_result"
    },
    {
     "data": {
      "image/png": "[encoded data removed]",
      "text/plain": [
       "<Figure size 432x288 with 1 Axes>"
      ]
     },
     "metadata": {
      "needs_background": "light"
     },
     "output_type": "display_data"
    }
   ],
   "source": [
    "#Number of articles published by each publication\n",
    "\n",
    "sns.countplot(medium_df[\"publication\"])\n",
    "plt.title(\"Number of articles published by each publication\")\n",
    "plt.xticks(rotation=45)"
   ]
  },
  {
   "cell_type": "code",
   "execution_count": 24,
   "id": "a48825cc",
   "metadata": {},
   "outputs": [
    {
     "data": {
      "application/vnd.plotly.v1+json": {
       "config": {
        "plotlyServerURL": "https://plot.ly"
       },
       "data": [
        {
         "alignmentgroup": "True",
         "hovertemplate": "publication=Better Humans<br>month=%{x}<br>title=%{y}<extra></extra>",
         "legendgroup": "Better Humans",
         "marker": {
          "color": "#636efa",
          "pattern": {
           "shape": ""
          }
         },
         "name": "Better Humans",
         "offsetgroup": "Better Humans",
         "orientation": "v",
         "showlegend": true,
         "textposition": "auto",
         "type": "bar",
         "x": [
          "Jan",
          "Feb",
          "Mar",
          "Apr",
          "May",
          "Jun",
          "Jul",
          "Aug",
          "Sep",
          "Oct",
          "Nov",
          "Dec"
         ],
         "xaxis": "x",
         "y": [
          13,
          11,
          10,
          14,
          20,
          13,
          12,
          14,
          20,
          17,
          18,
          13
         ],
         "yaxis": "y"
        },
        {
         "alignmentgroup": "True",
         "hovertemplate": "publication=Better Marketing<br>month=%{x}<br>title=%{y}<extra></extra>",
         "legendgroup": "Better Marketing",
         "marker": {
          "color": "#EF553B",
          "pattern": {
           "shape": ""
          }
         },
         "name": "Better Marketing",
         "offsetgroup": "Better Marketing",
         "orientation": "v",
         "showlegend": true,
         "textposition": "auto",
         "type": "bar",
         "x": [
          "Jan",
          "Feb",
          "Mar",
          "Apr",
          "May",
          "Jun",
          "Jul",
          "Aug",
          "Sep",
          "Oct",
          "Nov",
          "Dec"
         ],
         "xaxis": "x",
         "y": [
          49,
          89,
          128,
          88,
          88,
          65,
          68,
          71,
          76,
          110,
          72,
          24
         ],
         "yaxis": "y"
        },
        {
         "alignmentgroup": "True",
         "hovertemplate": "publication=Data Driven Investor<br>month=%{x}<br>title=%{y}<extra></extra>",
         "legendgroup": "Data Driven Investor",
         "marker": {
          "color": "#00cc96",
          "pattern": {
           "shape": ""
          }
         },
         "name": "Data Driven Investor",
         "offsetgroup": "Data Driven Investor",
         "orientation": "v",
         "showlegend": true,
         "textposition": "auto",
         "type": "bar",
         "x": [
          "Jan",
          "Feb",
          "Mar",
          "Apr",
          "May",
          "Jun",
          "Jul",
          "Aug",
          "Sep",
          "Oct",
          "Nov",
          "Dec"
         ],
         "xaxis": "x",
         "y": [
          87,
          185,
          162,
          214,
          262,
          145,
          124,
          149,
          297,
          355,
          179,
          150
         ],
         "yaxis": "y"
        },
        {
         "alignmentgroup": "True",
         "hovertemplate": "publication=The Startup<br>month=%{x}<br>title=%{y}<extra></extra>",
         "legendgroup": "The Startup",
         "marker": {
          "color": "#ab63fa",
          "pattern": {
           "shape": ""
          }
         },
         "name": "The Startup",
         "offsetgroup": "The Startup",
         "orientation": "v",
         "showlegend": true,
         "textposition": "auto",
         "type": "bar",
         "x": [
          "Jan",
          "Feb",
          "Mar",
          "Apr",
          "May",
          "Jun",
          "Jul",
          "Aug",
          "Sep",
          "Oct",
          "Nov",
          "Dec"
         ],
         "xaxis": "x",
         "y": [
          393,
          434,
          336,
          630,
          1187,
          638,
          413,
          354,
          660,
          860,
          408,
          125
         ],
         "yaxis": "y"
        },
        {
         "alignmentgroup": "True",
         "hovertemplate": "publication=UX Collective<br>month=%{x}<br>title=%{y}<extra></extra>",
         "legendgroup": "UX Collective",
         "marker": {
          "color": "#FFA15A",
          "pattern": {
           "shape": ""
          }
         },
         "name": "UX Collective",
         "offsetgroup": "UX Collective",
         "orientation": "v",
         "showlegend": true,
         "textposition": "auto",
         "type": "bar",
         "x": [
          "Jan",
          "Feb",
          "Mar",
          "Apr",
          "May",
          "Jun",
          "Jul",
          "Aug",
          "Sep",
          "Oct",
          "Nov",
          "Dec"
         ],
         "xaxis": "x",
         "y": [
          62,
          105,
          82,
          160,
          286,
          144,
          110,
          122,
          171,
          143,
          49,
          21
         ],
         "yaxis": "y"
        }
       ],
       "layout": {
        "barmode": "relative",
        "legend": {
         "title": {
          "text": "publication"
         },
         "tracegroupgap": 0
        },
        "margin": {
         "t": 60
        },
        "template": {
         "data": {
          "bar": [
           {
            "error_x": {
             "color": "#2a3f5f"
            },
            "error_y": {
             "color": "#2a3f5f"
            },
            "marker": {
             "line": {
              "color": "#E5ECF6",
              "width": 0.5
             },
             "pattern": {
              "fillmode": "overlay",
              "size": 10,
              "solidity": 0.2
             }
            },
            "type": "bar"
           }
          ],
          "barpolar": [
           {
            "marker": {
             "line": {
              "color": "#E5ECF6",
              "width": 0.5
             },
             "pattern": {
              "fillmode": "overlay",
              "size": 10,
              "solidity": 0.2
             }
            },
            "type": "barpolar"
           }
          ],
          "carpet": [
           {
            "aaxis": {
             "endlinecolor": "#2a3f5f",
             "gridcolor": "white",
             "linecolor": "white",
             "minorgridcolor": "white",
             "startlinecolor": "#2a3f5f"
            },
            "baxis": {
             "endlinecolor": "#2a3f5f",
             "gridcolor": "white",
             "linecolor": "white",
             "minorgridcolor": "white",
             "startlinecolor": "#2a3f5f"
            },
            "type": "carpet"
           }
          ],
          "choropleth": [
           {
            "colorbar": {
             "outlinewidth": 0,
             "ticks": ""
            },
            "type": "choropleth"
           }
          ],
          "contour": [
           {
            "colorbar": {
             "outlinewidth": 0,
             "ticks": ""
            },
            "colorscale": [
             [
              0,
              "#0d0887"
             ],
             [
              0.1111111111111111,
              "#46039f"
             ],
             [
              0.2222222222222222,
              "#7201a8"
             ],
             [
              0.3333333333333333,
              "#9c179e"
             ],
             [
              0.4444444444444444,
              "#bd3786"
             ],
             [
              0.5555555555555556,
              "#d8576b"
             ],
             [
              0.6666666666666666,
              "#ed7953"
             ],
             [
              0.7777777777777778,
              "#fb9f3a"
             ],
             [
              0.8888888888888888,
              "#fdca26"
             ],
             [
              1,
              "#f0f921"
             ]
            ],
            "type": "contour"
           }
          ],
          "contourcarpet": [
           {
            "colorbar": {
             "outlinewidth": 0,
             "ticks": ""
            },
            "type": "contourcarpet"
           }
          ],
          "heatmap": [
           {
            "colorbar": {
             "outlinewidth": 0,
             "ticks": ""
            },
            "colorscale": [
             [
              0,
              "#0d0887"
             ],
             [
              0.1111111111111111,
              "#46039f"
             ],
             [
              0.2222222222222222,
              "#7201a8"
             ],
             [
              0.3333333333333333,
              "#9c179e"
             ],
             [
              0.4444444444444444,
              "#bd3786"
             ],
             [
              0.5555555555555556,
              "#d8576b"
             ],
             [
              0.6666666666666666,
              "#ed7953"
             ],
             [
              0.7777777777777778,
              "#fb9f3a"
             ],
             [
              0.8888888888888888,
              "#fdca26"
             ],
             [
              1,
              "#f0f921"
             ]
            ],
            "type": "heatmap"
           }
          ],
          "heatmapgl": [
           {
            "colorbar": {
             "outlinewidth": 0,
             "ticks": ""
            },
            "colorscale": [
             [
              0,
              "#0d0887"
             ],
             [
              0.1111111111111111,
              "#46039f"
             ],
             [
              0.2222222222222222,
              "#7201a8"
             ],
             [
              0.3333333333333333,
              "#9c179e"
             ],
             [
              0.4444444444444444,
              "#bd3786"
             ],
             [
              0.5555555555555556,
              "#d8576b"
             ],
             [
              0.6666666666666666,
              "#ed7953"
             ],
             [
              0.7777777777777778,
              "#fb9f3a"
             ],
             [
              0.8888888888888888,
              "#fdca26"
             ],
             [
              1,
              "#f0f921"
             ]
            ],
            "type": "heatmapgl"
           }
          ],
          "histogram": [
           {
            "marker": {
             "pattern": {
              "fillmode": "overlay",
              "size": 10,
              "solidity": 0.2
             }
            },
            "type": "histogram"
           }
          ],
          "histogram2d": [
           {
            "colorbar": {
             "outlinewidth": 0,
             "ticks": ""
            },
            "colorscale": [
             [
              0,
              "#0d0887"
             ],
             [
              0.1111111111111111,
              "#46039f"
             ],
             [
              0.2222222222222222,
              "#7201a8"
             ],
             [
              0.3333333333333333,
              "#9c179e"
             ],
             [
              0.4444444444444444,
              "#bd3786"
             ],
             [
              0.5555555555555556,
              "#d8576b"
             ],
             [
              0.6666666666666666,
              "#ed7953"
             ],
             [
              0.7777777777777778,
              "#fb9f3a"
             ],
             [
              0.8888888888888888,
              "#fdca26"
             ],
             [
              1,
              "#f0f921"
             ]
            ],
            "type": "histogram2d"
           }
          ],
          "histogram2dcontour": [
           {
            "colorbar": {
             "outlinewidth": 0,
             "ticks": ""
            },
            "colorscale": [
             [
              0,
              "#0d0887"
             ],
             [
              0.1111111111111111,
              "#46039f"
             ],
             [
              0.2222222222222222,
              "#7201a8"
             ],
             [
              0.3333333333333333,
              "#9c179e"
             ],
             [
              0.4444444444444444,
              "#bd3786"
             ],
             [
              0.5555555555555556,
              "#d8576b"
             ],
             [
              0.6666666666666666,
              "#ed7953"
             ],
             [
              0.7777777777777778,
              "#fb9f3a"
             ],
             [
              0.8888888888888888,
              "#fdca26"
             ],
             [
              1,
              "#f0f921"
             ]
            ],
            "type": "histogram2dcontour"
           }
          ],
          "mesh3d": [
           {
            "colorbar": {
             "outlinewidth": 0,
             "ticks": ""
            },
            "type": "mesh3d"
           }
          ],
          "parcoords": [
           {
            "line": {
             "colorbar": {
              "outlinewidth": 0,
              "ticks": ""
             }
            },
            "type": "parcoords"
           }
          ],
          "pie": [
           {
            "automargin": true,
            "type": "pie"
           }
          ],
          "scatter": [
           {
            "marker": {
             "colorbar": {
              "outlinewidth": 0,
              "ticks": ""
             }
            },
            "type": "scatter"
           }
          ],
          "scatter3d": [
           {
            "line": {
             "colorbar": {
              "outlinewidth": 0,
              "ticks": ""
             }
            },
            "marker": {
             "colorbar": {
              "outlinewidth": 0,
              "ticks": ""
             }
            },
            "type": "scatter3d"
           }
          ],
          "scattercarpet": [
           {
            "marker": {
             "colorbar": {
              "outlinewidth": 0,
              "ticks": ""
             }
            },
            "type": "scattercarpet"
           }
          ],
          "scattergeo": [
           {
            "marker": {
             "colorbar": {
              "outlinewidth": 0,
              "ticks": ""
             }
            },
            "type": "scattergeo"
           }
          ],
          "scattergl": [
           {
            "marker": {
             "colorbar": {
              "outlinewidth": 0,
              "ticks": ""
             }
            },
            "type": "scattergl"
           }
          ],
          "scattermapbox": [
           {
            "marker": {
             "colorbar": {
              "outlinewidth": 0,
              "ticks": ""
             }
            },
            "type": "scattermapbox"
           }
          ],
          "scatterpolar": [
           {
            "marker": {
             "colorbar": {
              "outlinewidth": 0,
              "ticks": ""
             }
            },
            "type": "scatterpolar"
           }
          ],
          "scatterpolargl": [
           {
            "marker": {
             "colorbar": {
              "outlinewidth": 0,
              "ticks": ""
             }
            },
            "type": "scatterpolargl"
           }
          ],
          "scatterternary": [
           {
            "marker": {
             "colorbar": {
              "outlinewidth": 0,
              "ticks": ""
             }
            },
            "type": "scatterternary"
           }
          ],
          "surface": [
           {
            "colorbar": {
             "outlinewidth": 0,
             "ticks": ""
            },
            "colorscale": [
             [
              0,
              "#0d0887"
             ],
             [
              0.1111111111111111,
              "#46039f"
             ],
             [
              0.2222222222222222,
              "#7201a8"
             ],
             [
              0.3333333333333333,
              "#9c179e"
             ],
             [
              0.4444444444444444,
              "#bd3786"
             ],
             [
              0.5555555555555556,
              "#d8576b"
             ],
             [
              0.6666666666666666,
              "#ed7953"
             ],
             [
              0.7777777777777778,
              "#fb9f3a"
             ],
             [
              0.8888888888888888,
              "#fdca26"
             ],
             [
              1,
              "#f0f921"
             ]
            ],
            "type": "surface"
           }
          ],
          "table": [
           {
            "cells": {
             "fill": {
              "color": "#EBF0F8"
             },
             "line": {
              "color": "white"
             }
            },
            "header": {
             "fill": {
              "color": "#C8D4E3"
             },
             "line": {
              "color": "white"
             }
            },
            "type": "table"
           }
          ]
         },
         "layout": {
          "annotationdefaults": {
           "arrowcolor": "#2a3f5f",
           "arrowhead": 0,
           "arrowwidth": 1
          },
          "autotypenumbers": "strict",
          "coloraxis": {
           "colorbar": {
            "outlinewidth": 0,
            "ticks": ""
           }
          },
          "colorscale": {
           "diverging": [
            [
             0,
             "#8e0152"
            ],
            [
             0.1,
             "#c51b7d"
            ],
            [
             0.2,
             "#de77ae"
            ],
            [
             0.3,
             "#f1b6da"
            ],
            [
             0.4,
             "#fde0ef"
            ],
            [
             0.5,
             "#f7f7f7"
            ],
            [
             0.6,
             "#e6f5d0"
            ],
            [
             0.7,
             "#b8e186"
            ],
            [
             0.8,
             "#7fbc41"
            ],
            [
             0.9,
             "#4d9221"
            ],
            [
             1,
             "#276419"
            ]
           ],
           "sequential": [
            [
             0,
             "#0d0887"
            ],
            [
             0.1111111111111111,
             "#46039f"
            ],
            [
             0.2222222222222222,
             "#7201a8"
            ],
            [
             0.3333333333333333,
             "#9c179e"
            ],
            [
             0.4444444444444444,
             "#bd3786"
            ],
            [
             0.5555555555555556,
             "#d8576b"
            ],
            [
             0.6666666666666666,
             "#ed7953"
            ],
            [
             0.7777777777777778,
             "#fb9f3a"
            ],
            [
             0.8888888888888888,
             "#fdca26"
            ],
            [
             1,
             "#f0f921"
            ]
           ],
           "sequentialminus": [
            [
             0,
             "#0d0887"
            ],
            [
             0.1111111111111111,
             "#46039f"
            ],
            [
             0.2222222222222222,
             "#7201a8"
            ],
            [
             0.3333333333333333,
             "#9c179e"
            ],
            [
             0.4444444444444444,
             "#bd3786"
            ],
            [
             0.5555555555555556,
             "#d8576b"
            ],
            [
             0.6666666666666666,
             "#ed7953"
            ],
            [
             0.7777777777777778,
             "#fb9f3a"
            ],
            [
             0.8888888888888888,
             "#fdca26"
            ],
            [
             1,
             "#f0f921"
            ]
           ]
          },
          "colorway": [
           "#636efa",
           "#EF553B",
           "#00cc96",
           "#ab63fa",
           "#FFA15A",
           "#19d3f3",
           "#FF6692",
           "#B6E880",
           "#FF97FF",
           "#FECB52"
          ],
          "font": {
           "color": "#2a3f5f"
          },
          "geo": {
           "bgcolor": "white",
           "lakecolor": "white",
           "landcolor": "#E5ECF6",
           "showlakes": true,
           "showland": true,
           "subunitcolor": "white"
          },
          "hoverlabel": {
           "align": "left"
          },
          "hovermode": "closest",
          "mapbox": {
           "style": "light"
          },
          "paper_bgcolor": "white",
          "plot_bgcolor": "#E5ECF6",
          "polar": {
           "angularaxis": {
            "gridcolor": "white",
            "linecolor": "white",
            "ticks": ""
           },
           "bgcolor": "#E5ECF6",
           "radialaxis": {
            "gridcolor": "white",
            "linecolor": "white",
            "ticks": ""
           }
          },
          "scene": {
           "xaxis": {
            "backgroundcolor": "#E5ECF6",
            "gridcolor": "white",
            "gridwidth": 2,
            "linecolor": "white",
            "showbackground": true,
            "ticks": "",
            "zerolinecolor": "white"
           },
           "yaxis": {
            "backgroundcolor": "#E5ECF6",
            "gridcolor": "white",
            "gridwidth": 2,
            "linecolor": "white",
            "showbackground": true,
            "ticks": "",
            "zerolinecolor": "white"
           },
           "zaxis": {
            "backgroundcolor": "#E5ECF6",
            "gridcolor": "white",
            "gridwidth": 2,
            "linecolor": "white",
            "showbackground": true,
            "ticks": "",
            "zerolinecolor": "white"
           }
          },
          "shapedefaults": {
           "line": {
            "color": "#2a3f5f"
           }
          },
          "ternary": {
           "aaxis": {
            "gridcolor": "white",
            "linecolor": "white",
            "ticks": ""
           },
           "baxis": {
            "gridcolor": "white",
            "linecolor": "white",
            "ticks": ""
           },
           "bgcolor": "#E5ECF6",
           "caxis": {
            "gridcolor": "white",
            "linecolor": "white",
            "ticks": ""
           }
          },
          "title": {
           "x": 0.05
          },
          "xaxis": {
           "automargin": true,
           "gridcolor": "white",
           "linecolor": "white",
           "ticks": "",
           "title": {
            "standoff": 15
           },
           "zerolinecolor": "white",
           "zerolinewidth": 2
          },
          "yaxis": {
           "automargin": true,
           "gridcolor": "white",
           "linecolor": "white",
           "ticks": "",
           "title": {
            "standoff": 15
           },
           "zerolinecolor": "white",
           "zerolinewidth": 2
          }
         }
        },
        "xaxis": {
         "anchor": "y",
         "domain": [
          0,
          1
         ],
         "title": {
          "text": "month"
         }
        },
        "yaxis": {
         "anchor": "x",
         "domain": [
          0,
          1
         ],
         "title": {
          "text": "title"
         }
        }
       }
      },
      "text/html": [
       "<div>                            <div id=\"99ca1cb9-84c3-4aa3-8ce1-0e72fad9beac\" class=\"plotly-graph-div\" style=\"height:525px; width:100%;\"></div>            <script type=\"text/javascript\">                require([\"plotly\"], function(Plotly) {                    window.PLOTLYENV=window.PLOTLYENV || {};                                    if (document.getElementById(\"99ca1cb9-84c3-4aa3-8ce1-0e72fad9beac\")) {                    Plotly.newPlot(                        \"99ca1cb9-84c3-4aa3-8ce1-0e72fad9beac\",                        [{\"alignmentgroup\":\"True\",\"hovertemplate\":\"publication=Better Humans<br>month=%{x}<br>title=%{y}<extra></extra>\",\"legendgroup\":\"Better Humans\",\"marker\":{\"color\":\"#636efa\",\"pattern\":{\"shape\":\"\"}},\"name\":\"Better Humans\",\"offsetgroup\":\"Better Humans\",\"orientation\":\"v\",\"showlegend\":true,\"textposition\":\"auto\",\"type\":\"bar\",\"x\":[\"Jan\",\"Feb\",\"Mar\",\"Apr\",\"May\",\"Jun\",\"Jul\",\"Aug\",\"Sep\",\"Oct\",\"Nov\",\"Dec\"],\"xaxis\":\"x\",\"y\":[13,11,10,14,20,13,12,14,20,17,18,13],\"yaxis\":\"y\"},{\"alignmentgroup\":\"True\",\"hovertemplate\":\"publication=Better Marketing<br>month=%{x}<br>title=%{y}<extra></extra>\",\"legendgroup\":\"Better Marketing\",\"marker\":{\"color\":\"#EF553B\",\"pattern\":{\"shape\":\"\"}},\"name\":\"Better Marketing\",\"offsetgroup\":\"Better Marketing\",\"orientation\":\"v\",\"showlegend\":true,\"textposition\":\"auto\",\"type\":\"bar\",\"x\":[\"Jan\",\"Feb\",\"Mar\",\"Apr\",\"May\",\"Jun\",\"Jul\",\"Aug\",\"Sep\",\"Oct\",\"Nov\",\"Dec\"],\"xaxis\":\"x\",\"y\":[49,89,128,88,88,65,68,71,76,110,72,24],\"yaxis\":\"y\"},{\"alignmentgroup\":\"True\",\"hovertemplate\":\"publication=Data Driven Investor<br>month=%{x}<br>title=%{y}<extra></extra>\",\"legendgroup\":\"Data Driven Investor\",\"marker\":{\"color\":\"#00cc96\",\"pattern\":{\"shape\":\"\"}},\"name\":\"Data Driven Investor\",\"offsetgroup\":\"Data Driven Investor\",\"orientation\":\"v\",\"showlegend\":true,\"textposition\":\"auto\",\"type\":\"bar\",\"x\":[\"Jan\",\"Feb\",\"Mar\",\"Apr\",\"May\",\"Jun\",\"Jul\",\"Aug\",\"Sep\",\"Oct\",\"Nov\",\"Dec\"],\"xaxis\":\"x\",\"y\":[87,185,162,214,262,145,124,149,297,355,179,150],\"yaxis\":\"y\"},{\"alignmentgroup\":\"True\",\"hovertemplate\":\"publication=The Startup<br>month=%{x}<br>title=%{y}<extra></extra>\",\"legendgroup\":\"The Startup\",\"marker\":{\"color\":\"#ab63fa\",\"pattern\":{\"shape\":\"\"}},\"name\":\"The Startup\",\"offsetgroup\":\"The Startup\",\"orientation\":\"v\",\"showlegend\":true,\"textposition\":\"auto\",\"type\":\"bar\",\"x\":[\"Jan\",\"Feb\",\"Mar\",\"Apr\",\"May\",\"Jun\",\"Jul\",\"Aug\",\"Sep\",\"Oct\",\"Nov\",\"Dec\"],\"xaxis\":\"x\",\"y\":[393,434,336,630,1187,638,413,354,660,860,408,125],\"yaxis\":\"y\"},{\"alignmentgroup\":\"True\",\"hovertemplate\":\"publication=UX Collective<br>month=%{x}<br>title=%{y}<extra></extra>\",\"legendgroup\":\"UX Collective\",\"marker\":{\"color\":\"#FFA15A\",\"pattern\":{\"shape\":\"\"}},\"name\":\"UX Collective\",\"offsetgroup\":\"UX Collective\",\"orientation\":\"v\",\"showlegend\":true,\"textposition\":\"auto\",\"type\":\"bar\",\"x\":[\"Jan\",\"Feb\",\"Mar\",\"Apr\",\"May\",\"Jun\",\"Jul\",\"Aug\",\"Sep\",\"Oct\",\"Nov\",\"Dec\"],\"xaxis\":\"x\",\"y\":[62,105,82,160,286,144,110,122,171,143,49,21],\"yaxis\":\"y\"}],                        {\"barmode\":\"relative\",\"legend\":{\"title\":{\"text\":\"publication\"},\"tracegroupgap\":0},\"margin\":{\"t\":60},\"template\":{\"data\":{\"bar\":[{\"error_x\":{\"color\":\"#2a3f5f\"},\"error_y\":{\"color\":\"#2a3f5f\"},\"marker\":{\"line\":{\"color\":\"#E5ECF6\",\"width\":0.5},\"pattern\":{\"fillmode\":\"overlay\",\"size\":10,\"solidity\":0.2}},\"type\":\"bar\"}],\"barpolar\":[{\"marker\":{\"line\":{\"color\":\"#E5ECF6\",\"width\":0.5},\"pattern\":{\"fillmode\":\"overlay\",\"size\":10,\"solidity\":0.2}},\"type\":\"barpolar\"}],\"carpet\":[{\"aaxis\":{\"endlinecolor\":\"#2a3f5f\",\"gridcolor\":\"white\",\"linecolor\":\"white\",\"minorgridcolor\":\"white\",\"startlinecolor\":\"#2a3f5f\"},\"baxis\":{\"endlinecolor\":\"#2a3f5f\",\"gridcolor\":\"white\",\"linecolor\":\"white\",\"minorgridcolor\":\"white\",\"startlinecolor\":\"#2a3f5f\"},\"type\":\"carpet\"}],\"choropleth\":[{\"colorbar\":{\"outlinewidth\":0,\"ticks\":\"\"},\"type\":\"choropleth\"}],\"contour\":[{\"colorbar\":{\"outlinewidth\":0,\"ticks\":\"\"},\"colorscale\":[[0.0,\"#0d0887\"],[0.1111111111111111,\"#46039f\"],[0.2222222222222222,\"#7201a8\"],[0.3333333333333333,\"#9c179e\"],[0.4444444444444444,\"#bd3786\"],[0.5555555555555556,\"#d8576b\"],[0.6666666666666666,\"#ed7953\"],[0.7777777777777778,\"#fb9f3a\"],[0.8888888888888888,\"#fdca26\"],[1.0,\"#f0f921\"]],\"type\":\"contour\"}],\"contourcarpet\":[{\"colorbar\":{\"outlinewidth\":0,\"ticks\":\"\"},\"type\":\"contourcarpet\"}],\"heatmap\":[{\"colorbar\":{\"outlinewidth\":0,\"ticks\":\"\"},\"colorscale\":[[0.0,\"#0d0887\"],[0.1111111111111111,\"#46039f\"],[0.2222222222222222,\"#7201a8\"],[0.3333333333333333,\"#9c179e\"],[0.4444444444444444,\"#bd3786\"],[0.5555555555555556,\"#d8576b\"],[0.6666666666666666,\"#ed7953\"],[0.7777777777777778,\"#fb9f3a\"],[0.8888888888888888,\"#fdca26\"],[1.0,\"#f0f921\"]],\"type\":\"heatmap\"}],\"heatmapgl\":[{\"colorbar\":{\"outlinewidth\":0,\"ticks\":\"\"},\"colorscale\":[[0.0,\"#0d0887\"],[0.1111111111111111,\"#46039f\"],[0.2222222222222222,\"#7201a8\"],[0.3333333333333333,\"#9c179e\"],[0.4444444444444444,\"#bd3786\"],[0.5555555555555556,\"#d8576b\"],[0.6666666666666666,\"#ed7953\"],[0.7777777777777778,\"#fb9f3a\"],[0.8888888888888888,\"#fdca26\"],[1.0,\"#f0f921\"]],\"type\":\"heatmapgl\"}],\"histogram\":[{\"marker\":{\"pattern\":{\"fillmode\":\"overlay\",\"size\":10,\"solidity\":0.2}},\"type\":\"histogram\"}],\"histogram2d\":[{\"colorbar\":{\"outlinewidth\":0,\"ticks\":\"\"},\"colorscale\":[[0.0,\"#0d0887\"],[0.1111111111111111,\"#46039f\"],[0.2222222222222222,\"#7201a8\"],[0.3333333333333333,\"#9c179e\"],[0.4444444444444444,\"#bd3786\"],[0.5555555555555556,\"#d8576b\"],[0.6666666666666666,\"#ed7953\"],[0.7777777777777778,\"#fb9f3a\"],[0.8888888888888888,\"#fdca26\"],[1.0,\"#f0f921\"]],\"type\":\"histogram2d\"}],\"histogram2dcontour\":[{\"colorbar\":{\"outlinewidth\":0,\"ticks\":\"\"},\"colorscale\":[[0.0,\"#0d0887\"],[0.1111111111111111,\"#46039f\"],[0.2222222222222222,\"#7201a8\"],[0.3333333333333333,\"#9c179e\"],[0.4444444444444444,\"#bd3786\"],[0.5555555555555556,\"#d8576b\"],[0.6666666666666666,\"#ed7953\"],[0.7777777777777778,\"#fb9f3a\"],[0.8888888888888888,\"#fdca26\"],[1.0,\"#f0f921\"]],\"type\":\"histogram2dcontour\"}],\"mesh3d\":[{\"colorbar\":{\"outlinewidth\":0,\"ticks\":\"\"},\"type\":\"mesh3d\"}],\"parcoords\":[{\"line\":{\"colorbar\":{\"outlinewidth\":0,\"ticks\":\"\"}},\"type\":\"parcoords\"}],\"pie\":[{\"automargin\":true,\"type\":\"pie\"}],\"scatter\":[{\"marker\":{\"colorbar\":{\"outlinewidth\":0,\"ticks\":\"\"}},\"type\":\"scatter\"}],\"scatter3d\":[{\"line\":{\"colorbar\":{\"outlinewidth\":0,\"ticks\":\"\"}},\"marker\":{\"colorbar\":{\"outlinewidth\":0,\"ticks\":\"\"}},\"type\":\"scatter3d\"}],\"scattercarpet\":[{\"marker\":{\"colorbar\":{\"outlinewidth\":0,\"ticks\":\"\"}},\"type\":\"scattercarpet\"}],\"scattergeo\":[{\"marker\":{\"colorbar\":{\"outlinewidth\":0,\"ticks\":\"\"}},\"type\":\"scattergeo\"}],\"scattergl\":[{\"marker\":{\"colorbar\":{\"outlinewidth\":0,\"ticks\":\"\"}},\"type\":\"scattergl\"}],\"scattermapbox\":[{\"marker\":{\"colorbar\":{\"outlinewidth\":0,\"ticks\":\"\"}},\"type\":\"scattermapbox\"}],\"scatterpolar\":[{\"marker\":{\"colorbar\":{\"outlinewidth\":0,\"ticks\":\"\"}},\"type\":\"scatterpolar\"}],\"scatterpolargl\":[{\"marker\":{\"colorbar\":{\"outlinewidth\":0,\"ticks\":\"\"}},\"type\":\"scatterpolargl\"}],\"scatterternary\":[{\"marker\":{\"colorbar\":{\"outlinewidth\":0,\"ticks\":\"\"}},\"type\":\"scatterternary\"}],\"surface\":[{\"colorbar\":{\"outlinewidth\":0,\"ticks\":\"\"},\"colorscale\":[[0.0,\"#0d0887\"],[0.1111111111111111,\"#46039f\"],[0.2222222222222222,\"#7201a8\"],[0.3333333333333333,\"#9c179e\"],[0.4444444444444444,\"#bd3786\"],[0.5555555555555556,\"#d8576b\"],[0.6666666666666666,\"#ed7953\"],[0.7777777777777778,\"#fb9f3a\"],[0.8888888888888888,\"#fdca26\"],[1.0,\"#f0f921\"]],\"type\":\"surface\"}],\"table\":[{\"cells\":{\"fill\":{\"color\":\"#EBF0F8\"},\"line\":{\"color\":\"white\"}},\"header\":{\"fill\":{\"color\":\"#C8D4E3\"},\"line\":{\"color\":\"white\"}},\"type\":\"table\"}]},\"layout\":{\"annotationdefaults\":{\"arrowcolor\":\"#2a3f5f\",\"arrowhead\":0,\"arrowwidth\":1},\"autotypenumbers\":\"strict\",\"coloraxis\":{\"colorbar\":{\"outlinewidth\":0,\"ticks\":\"\"}},\"colorscale\":{\"diverging\":[[0,\"#8e0152\"],[0.1,\"#c51b7d\"],[0.2,\"#de77ae\"],[0.3,\"#f1b6da\"],[0.4,\"#fde0ef\"],[0.5,\"#f7f7f7\"],[0.6,\"#e6f5d0\"],[0.7,\"#b8e186\"],[0.8,\"#7fbc41\"],[0.9,\"#4d9221\"],[1,\"#276419\"]],\"sequential\":[[0.0,\"#0d0887\"],[0.1111111111111111,\"#46039f\"],[0.2222222222222222,\"#7201a8\"],[0.3333333333333333,\"#9c179e\"],[0.4444444444444444,\"#bd3786\"],[0.5555555555555556,\"#d8576b\"],[0.6666666666666666,\"#ed7953\"],[0.7777777777777778,\"#fb9f3a\"],[0.8888888888888888,\"#fdca26\"],[1.0,\"#f0f921\"]],\"sequentialminus\":[[0.0,\"#0d0887\"],[0.1111111111111111,\"#46039f\"],[0.2222222222222222,\"#7201a8\"],[0.3333333333333333,\"#9c179e\"],[0.4444444444444444,\"#bd3786\"],[0.5555555555555556,\"#d8576b\"],[0.6666666666666666,\"#ed7953\"],[0.7777777777777778,\"#fb9f3a\"],[0.8888888888888888,\"#fdca26\"],[1.0,\"#f0f921\"]]},\"colorway\":[\"#636efa\",\"#EF553B\",\"#00cc96\",\"#ab63fa\",\"#FFA15A\",\"#19d3f3\",\"#FF6692\",\"#B6E880\",\"#FF97FF\",\"#FECB52\"],\"font\":{\"color\":\"#2a3f5f\"},\"geo\":{\"bgcolor\":\"white\",\"lakecolor\":\"white\",\"landcolor\":\"#E5ECF6\",\"showlakes\":true,\"showland\":true,\"subunitcolor\":\"white\"},\"hoverlabel\":{\"align\":\"left\"},\"hovermode\":\"closest\",\"mapbox\":{\"style\":\"light\"},\"paper_bgcolor\":\"white\",\"plot_bgcolor\":\"#E5ECF6\",\"polar\":{\"angularaxis\":{\"gridcolor\":\"white\",\"linecolor\":\"white\",\"ticks\":\"\"},\"bgcolor\":\"#E5ECF6\",\"radialaxis\":{\"gridcolor\":\"white\",\"linecolor\":\"white\",\"ticks\":\"\"}},\"scene\":{\"xaxis\":{\"backgroundcolor\":\"#E5ECF6\",\"gridcolor\":\"white\",\"gridwidth\":2,\"linecolor\":\"white\",\"showbackground\":true,\"ticks\":\"\",\"zerolinecolor\":\"white\"},\"yaxis\":{\"backgroundcolor\":\"#E5ECF6\",\"gridcolor\":\"white\",\"gridwidth\":2,\"linecolor\":\"white\",\"showbackground\":true,\"ticks\":\"\",\"zerolinecolor\":\"white\"},\"zaxis\":{\"backgroundcolor\":\"#E5ECF6\",\"gridcolor\":\"white\",\"gridwidth\":2,\"linecolor\":\"white\",\"showbackground\":true,\"ticks\":\"\",\"zerolinecolor\":\"white\"}},\"shapedefaults\":{\"line\":{\"color\":\"#2a3f5f\"}},\"ternary\":{\"aaxis\":{\"gridcolor\":\"white\",\"linecolor\":\"white\",\"ticks\":\"\"},\"baxis\":{\"gridcolor\":\"white\",\"linecolor\":\"white\",\"ticks\":\"\"},\"bgcolor\":\"#E5ECF6\",\"caxis\":{\"gridcolor\":\"white\",\"linecolor\":\"white\",\"ticks\":\"\"}},\"title\":{\"x\":0.05},\"xaxis\":{\"automargin\":true,\"gridcolor\":\"white\",\"linecolor\":\"white\",\"ticks\":\"\",\"title\":{\"standoff\":15},\"zerolinecolor\":\"white\",\"zerolinewidth\":2},\"yaxis\":{\"automargin\":true,\"gridcolor\":\"white\",\"linecolor\":\"white\",\"ticks\":\"\",\"title\":{\"standoff\":15},\"zerolinecolor\":\"white\",\"zerolinewidth\":2}}},\"xaxis\":{\"anchor\":\"y\",\"domain\":[0.0,1.0],\"title\":{\"text\":\"month\"}},\"yaxis\":{\"anchor\":\"x\",\"domain\":[0.0,1.0],\"title\":{\"text\":\"title\"}}},                        {\"responsive\": true}                    ).then(function(){\n",
       "                            \n",
       "var gd = document.getElementById('99ca1cb9-84c3-4aa3-8ce1-0e72fad9beac');\n",
       "var x = new MutationObserver(function (mutations, observer) {{\n",
       "        var display = window.getComputedStyle(gd).display;\n",
       "        if (!display || display === 'none') {{\n",
       "            console.log([gd, 'removed!']);\n",
       "            Plotly.purge(gd);\n",
       "            observer.disconnect();\n",
       "        }}\n",
       "}});\n",
       "\n",
       "// Listen for the removal of the full notebook cells\n",
       "var notebookContainer = gd.closest('#notebook-container');\n",
       "if (notebookContainer) {{\n",
       "    x.observe(notebookContainer, {childList: true});\n",
       "}}\n",
       "\n",
       "// Listen for the clearing of the current output cell\n",
       "var outputEl = gd.closest('.output');\n",
       "if (outputEl) {{\n",
       "    x.observe(outputEl, {childList: true});\n",
       "}}\n",
       "\n",
       "                        })                };                });            </script>        </div>"
      ]
     },
     "metadata": {},
     "output_type": "display_data"
    }
   ],
   "source": [
    "#Number of articles published in each month\n",
    "\n",
    "medium_dfmonth=medium_df.groupby([\"month\",\"publication\"])[\"title\"].count().reset_index()\n",
    "medium_dfmonth[\"month\"]=medium_dfmonth[\"month\"].apply(lambda x:calendar.month_abbr[x])\n",
    "fig=px.bar(data_frame=medium_dfmonth, x=\"month\", y=\"title\", color=\"publication\")\n",
    "fig.show()"
   ]
  },
  {
   "cell_type": "markdown",
   "id": "d0166a1d",
   "metadata": {},
   "source": [
    "Now, we will checking the measures of reading time, claps and responses for different publications. As understood from the histogram, there are some outliers present, so we will be checking the median for each of these variables"
   ]
  },
  {
   "cell_type": "code",
   "execution_count": 25,
   "id": "e3b39fb0",
   "metadata": {},
   "outputs": [
    {
     "data": {
      "text/plain": [
       "(array([0, 1, 2, 3, 4]),\n",
       " [Text(0, 0, 'Better Humans'),\n",
       "  Text(1, 0, 'Better Marketing'),\n",
       "  Text(2, 0, 'The Startup'),\n",
       "  Text(3, 0, 'UX Collective'),\n",
       "  Text(4, 0, 'Data Driven Investor')])"
      ]
     },
     "execution_count": 25,
     "metadata": {},
     "output_type": "execute_result"
    },
    {
     "data": {
      "image/png": "[encoded data removed]",
      "text/plain": [
       "<Figure size 432x288 with 1 Axes>"
      ]
     },
     "metadata": {
      "needs_background": "light"
     },
     "output_type": "display_data"
    }
   ],
   "source": [
    "median_readingtime=medium_df.groupby(\"publication\")[\"reading_time\"].median().sort_values(ascending=False).reset_index()\n",
    "sns.barplot(x=\"publication\", y=\"reading_time\", data=median_readingtime)\n",
    "plt.xticks(rotation=45)"
   ]
  },
  {
   "cell_type": "code",
   "execution_count": 26,
   "id": "6f6ab65e",
   "metadata": {},
   "outputs": [
    {
     "data": {
      "text/plain": [
       "(array([0, 1, 2, 3, 4]),\n",
       " [Text(0, 0, 'Better Humans'),\n",
       "  Text(1, 0, 'Better Marketing'),\n",
       "  Text(2, 0, 'UX Collective'),\n",
       "  Text(3, 0, 'The Startup'),\n",
       "  Text(4, 0, 'Data Driven Investor')])"
      ]
     },
     "execution_count": 26,
     "metadata": {},
     "output_type": "execute_result"
    },
    {
     "data": {
      "image/png": "[encoded data removed]",
      "text/plain": [
       "<Figure size 432x288 with 1 Axes>"
      ]
     },
     "metadata": {
      "needs_background": "light"
     },
     "output_type": "display_data"
    }
   ],
   "source": [
    "median_claps=medium_df.groupby(\"publication\")[\"claps\"].median().sort_values(ascending=False).reset_index()\n",
    "sns.barplot(x=\"publication\", y=\"claps\", data=median_claps)\n",
    "plt.xticks(rotation=45)"
   ]
  },
  {
   "cell_type": "code",
   "execution_count": 27,
   "id": "d9845871",
   "metadata": {},
   "outputs": [
    {
     "data": {
      "text/plain": [
       "(array([0, 1, 2, 3, 4]),\n",
       " [Text(0, 0, 'Better Humans'),\n",
       "  Text(1, 0, 'Better Marketing'),\n",
       "  Text(2, 0, 'Data Driven Investor'),\n",
       "  Text(3, 0, 'The Startup'),\n",
       "  Text(4, 0, 'UX Collective')])"
      ]
     },
     "execution_count": 27,
     "metadata": {},
     "output_type": "execute_result"
    },
    {
     "data": {
      "image/png": "[encoded data removed]",
      "text/plain": [
       "<Figure size 432x288 with 1 Axes>"
      ]
     },
     "metadata": {
      "needs_background": "light"
     },
     "output_type": "display_data"
    }
   ],
   "source": [
    "median_responses=medium_df.groupby(\"publication\")[\"responses\"].median().sort_values(ascending=False).reset_index()\n",
    "sns.barplot(x=\"publication\", y=\"responses\", data=median_responses)\n",
    "plt.xticks(rotation=45)"
   ]
  },
  {
   "cell_type": "markdown",
   "id": "96e0d6af",
   "metadata": {},
   "source": [
    "Now let's try to find out which day of week has maximum number of articles published. We can plot a graph for month vs day of the week to also understand for each month which day of the week has highest number of articles published"
   ]
  },
  {
   "cell_type": "code",
   "execution_count": 28,
   "id": "1e334937",
   "metadata": {},
   "outputs": [
    {
     "data": {
      "text/html": [
       "<div>\n",
       "<style scoped>\n",
       "    .dataframe tbody tr th:only-of-type {\n",
       "        vertical-align: middle;\n",
       "    }\n",
       "\n",
       "    .dataframe tbody tr th {\n",
       "        vertical-align: top;\n",
       "    }\n",
       "\n",
       "    .dataframe thead th {\n",
       "        text-align: right;\n",
       "    }\n",
       "</style>\n",
       "<table border=\"1\" class=\"dataframe\">\n",
       "  <thead>\n",
       "    <tr style=\"text-align: right;\">\n",
       "      <th></th>\n",
       "      <th>dates</th>\n",
       "      <th>counts</th>\n",
       "    </tr>\n",
       "  </thead>\n",
       "  <tbody>\n",
       "    <tr>\n",
       "      <th>0</th>\n",
       "      <td>2020-05-12</td>\n",
       "      <td>184</td>\n",
       "    </tr>\n",
       "    <tr>\n",
       "      <th>1</th>\n",
       "      <td>2020-05-06</td>\n",
       "      <td>183</td>\n",
       "    </tr>\n",
       "    <tr>\n",
       "      <th>2</th>\n",
       "      <td>2020-05-04</td>\n",
       "      <td>164</td>\n",
       "    </tr>\n",
       "    <tr>\n",
       "      <th>3</th>\n",
       "      <td>2020-08-10</td>\n",
       "      <td>164</td>\n",
       "    </tr>\n",
       "    <tr>\n",
       "      <th>4</th>\n",
       "      <td>2020-05-20</td>\n",
       "      <td>160</td>\n",
       "    </tr>\n",
       "  </tbody>\n",
       "</table>\n",
       "</div>"
      ],
      "text/plain": [
       "       dates  counts\n",
       "0 2020-05-12     184\n",
       "1 2020-05-06     183\n",
       "2 2020-05-04     164\n",
       "3 2020-08-10     164\n",
       "4 2020-05-20     160"
      ]
     },
     "execution_count": 28,
     "metadata": {},
     "output_type": "execute_result"
    }
   ],
   "source": [
    "medium_dfdates=medium_df[\"date\"].value_counts().rename_axis('dates').reset_index(name='counts')\n",
    "medium_dfdates.head()"
   ]
  },
  {
   "cell_type": "code",
   "execution_count": 29,
   "id": "7d6d5d93",
   "metadata": {},
   "outputs": [
    {
     "data": {
      "text/html": [
       "<div>\n",
       "<style scoped>\n",
       "    .dataframe tbody tr th:only-of-type {\n",
       "        vertical-align: middle;\n",
       "    }\n",
       "\n",
       "    .dataframe tbody tr th {\n",
       "        vertical-align: top;\n",
       "    }\n",
       "\n",
       "    .dataframe thead th {\n",
       "        text-align: right;\n",
       "    }\n",
       "</style>\n",
       "<table border=\"1\" class=\"dataframe\">\n",
       "  <thead>\n",
       "    <tr style=\"text-align: right;\">\n",
       "      <th></th>\n",
       "      <th>dates</th>\n",
       "      <th>counts</th>\n",
       "      <th>month</th>\n",
       "      <th>day_of_week</th>\n",
       "    </tr>\n",
       "  </thead>\n",
       "  <tbody>\n",
       "    <tr>\n",
       "      <th>0</th>\n",
       "      <td>2020-05-12</td>\n",
       "      <td>184</td>\n",
       "      <td>May</td>\n",
       "      <td>Tuesday</td>\n",
       "    </tr>\n",
       "    <tr>\n",
       "      <th>1</th>\n",
       "      <td>2020-05-06</td>\n",
       "      <td>183</td>\n",
       "      <td>May</td>\n",
       "      <td>Wednesday</td>\n",
       "    </tr>\n",
       "    <tr>\n",
       "      <th>2</th>\n",
       "      <td>2020-05-04</td>\n",
       "      <td>164</td>\n",
       "      <td>May</td>\n",
       "      <td>Monday</td>\n",
       "    </tr>\n",
       "    <tr>\n",
       "      <th>3</th>\n",
       "      <td>2020-08-10</td>\n",
       "      <td>164</td>\n",
       "      <td>August</td>\n",
       "      <td>Monday</td>\n",
       "    </tr>\n",
       "    <tr>\n",
       "      <th>4</th>\n",
       "      <td>2020-05-20</td>\n",
       "      <td>160</td>\n",
       "      <td>May</td>\n",
       "      <td>Wednesday</td>\n",
       "    </tr>\n",
       "    <tr>\n",
       "      <th>...</th>\n",
       "      <td>...</td>\n",
       "      <td>...</td>\n",
       "      <td>...</td>\n",
       "      <td>...</td>\n",
       "    </tr>\n",
       "    <tr>\n",
       "      <th>95</th>\n",
       "      <td>2020-03-21</td>\n",
       "      <td>72</td>\n",
       "      <td>March</td>\n",
       "      <td>Saturday</td>\n",
       "    </tr>\n",
       "    <tr>\n",
       "      <th>96</th>\n",
       "      <td>2020-10-31</td>\n",
       "      <td>71</td>\n",
       "      <td>October</td>\n",
       "      <td>Saturday</td>\n",
       "    </tr>\n",
       "    <tr>\n",
       "      <th>97</th>\n",
       "      <td>2020-11-14</td>\n",
       "      <td>69</td>\n",
       "      <td>November</td>\n",
       "      <td>Saturday</td>\n",
       "    </tr>\n",
       "    <tr>\n",
       "      <th>98</th>\n",
       "      <td>2020-12-24</td>\n",
       "      <td>63</td>\n",
       "      <td>December</td>\n",
       "      <td>Thursday</td>\n",
       "    </tr>\n",
       "    <tr>\n",
       "      <th>99</th>\n",
       "      <td>2020-12-27</td>\n",
       "      <td>49</td>\n",
       "      <td>December</td>\n",
       "      <td>Sunday</td>\n",
       "    </tr>\n",
       "  </tbody>\n",
       "</table>\n",
       "<p>100 rows × 4 columns</p>\n",
       "</div>"
      ],
      "text/plain": [
       "        dates  counts     month day_of_week\n",
       "0  2020-05-12     184       May     Tuesday\n",
       "1  2020-05-06     183       May   Wednesday\n",
       "2  2020-05-04     164       May      Monday\n",
       "3  2020-08-10     164    August      Monday\n",
       "4  2020-05-20     160       May   Wednesday\n",
       "..        ...     ...       ...         ...\n",
       "95 2020-03-21      72     March    Saturday\n",
       "96 2020-10-31      71   October    Saturday\n",
       "97 2020-11-14      69  November    Saturday\n",
       "98 2020-12-24      63  December    Thursday\n",
       "99 2020-12-27      49  December      Sunday\n",
       "\n",
       "[100 rows x 4 columns]"
      ]
     },
     "execution_count": 29,
     "metadata": {},
     "output_type": "execute_result"
    }
   ],
   "source": [
    "medium_dfdates['month'] = medium_dfdates.dates.dt.month_name()\n",
    "medium_dfdates['day_of_week'] = medium_dfdates.dates.dt.day_name()\n",
    "medium_dfdates"
   ]
  },
  {
   "cell_type": "code",
   "execution_count": 30,
   "id": "09620b8f",
   "metadata": {},
   "outputs": [
    {
     "data": {
      "text/plain": [
       "<AxesSubplot:title={'center':'Day of week vs Month Blogs posted'}, xlabel='day_of_week', ylabel='month'>"
      ]
     },
     "execution_count": 30,
     "metadata": {},
     "output_type": "execute_result"
    },
    {
     "data": {
      "image/png": "[encoded data removed]",
      "text/plain": [
       "<Figure size 864x432 with 2 Axes>"
      ]
     },
     "metadata": {
      "needs_background": "light"
     },
     "output_type": "display_data"
    }
   ],
   "source": [
    "rest_data = medium_dfdates.pivot_table(index='month', columns='day_of_week', values='counts',  aggfunc='sum', fill_value=0)\n",
    "rest_data = rest_data[['Monday','Tuesday','Wednesday','Thursday','Friday','Saturday','Sunday']]\n",
    "plt.figure(figsize=(12,6))\n",
    "plt.title(\"Day of week vs Month Blogs posted\")\n",
    "sns.heatmap(rest_data, cmap=\"Greens\", linewidths=.5)\n"
   ]
  },
  {
   "cell_type": "markdown",
   "id": "110b5222",
   "metadata": {},
   "source": [
    "Now let's try to find out the correlation between readin_time, claps, responses and title length. Then, we will create a pairplot"
   ]
  },
  {
   "cell_type": "code",
   "execution_count": 31,
   "id": "5ed46ffd",
   "metadata": {},
   "outputs": [
    {
     "data": {
      "text/plain": [
       "<AxesSubplot:>"
      ]
     },
     "execution_count": 31,
     "metadata": {},
     "output_type": "execute_result"
    },
    {
     "data": {
      "image/png": "[encoded data removed]",
      "text/plain": [
       "<Figure size 432x288 with 2 Axes>"
      ]
     },
     "metadata": {
      "needs_background": "light"
     },
     "output_type": "display_data"
    }
   ],
   "source": [
    "correlation_df=medium_df[[\"claps\",\"responses\",\"reading_time\",\"title_length\"]]\n",
    "correlation=correlation_df.corr()\n",
    "sns.heatmap(correlation, cmap = \"GnBu\", annot = True)"
   ]
  },
  {
   "cell_type": "code",
   "execution_count": 32,
   "id": "3cd6f1fa",
   "metadata": {},
   "outputs": [
    {
     "data": {
      "text/plain": [
       "<seaborn.axisgrid.PairGrid at 0x2be4d733af0>"
      ]
     },
     "execution_count": 32,
     "metadata": {},
     "output_type": "execute_result"
    },
    {
     "data": {
      "image/png": "[encoded data removed]",
      "text/plain": [
       "<Figure size 720x720 with 20 Axes>"
      ]
     },
     "metadata": {
      "needs_background": "light"
     },
     "output_type": "display_data"
    }
   ],
   "source": [
    "sns.pairplot(correlation_df)"
   ]
  },
  {
   "cell_type": "markdown",
   "id": "5bcb42bd",
   "metadata": {},
   "source": [
    "From the pairplot, it can be observed that claps and responses seems to have a positive correlation. However, pairplots of claps and responses with reading_time and title_length looks interesting, we will have a closer look at them"
   ]
  },
  {
   "cell_type": "code",
   "execution_count": 37,
   "id": "cee835db",
   "metadata": {},
   "outputs": [
    {
     "data": {
      "text/plain": [
       "<AxesSubplot:xlabel='reading_time', ylabel='claps'>"
      ]
     },
     "execution_count": 37,
     "metadata": {},
     "output_type": "execute_result"
    },
    {
     "data": {
      "image/png": "[encoded data removed]",
      "text/plain": [
       "<Figure size 1440x576 with 1 Axes>"
      ]
     },
     "metadata": {
      "needs_background": "light"
     },
     "output_type": "display_data"
    }
   ],
   "source": [
    "fig = plt.gcf()\n",
    "fig.set_size_inches(20, 8)\n",
    "sns.scatterplot(medium_df[\"reading_time\"],medium_df[\"claps\"])"
   ]
  },
  {
   "cell_type": "code",
   "execution_count": 40,
   "id": "0cc6970d",
   "metadata": {},
   "outputs": [
    {
     "data": {
      "text/plain": [
       "<AxesSubplot:xlabel='reading_time', ylabel='responses'>"
      ]
     },
     "execution_count": 40,
     "metadata": {},
     "output_type": "execute_result"
    },
    {
     "data": {
      "image/png": "[encoded data removed]",
      "text/plain": [
       "<Figure size 1440x576 with 1 Axes>"
      ]
     },
     "metadata": {
      "needs_background": "light"
     },
     "output_type": "display_data"
    }
   ],
   "source": [
    "fig = plt.gcf()\n",
    "fig.set_size_inches(20, 8)\n",
    "sns.scatterplot(medium_df[\"reading_time\"],medium_df[\"responses\"])"
   ]
  },
  {
   "cell_type": "code",
   "execution_count": 41,
   "id": "ac69affd",
   "metadata": {},
   "outputs": [
    {
     "data": {
      "text/plain": [
       "<AxesSubplot:xlabel='title_length', ylabel='claps'>"
      ]
     },
     "execution_count": 41,
     "metadata": {},
     "output_type": "execute_result"
    },
    {
     "data": {
      "image/png": "[encoded data removed]",
      "text/plain": [
       "<Figure size 1440x576 with 1 Axes>"
      ]
     },
     "metadata": {
      "needs_background": "light"
     },
     "output_type": "display_data"
    }
   ],
   "source": [
    "fig = plt.gcf()\n",
    "fig.set_size_inches(20, 8)\n",
    "sns.scatterplot(medium_df[\"title_length\"],medium_df[\"claps\"])"
   ]
  },
  {
   "cell_type": "code",
   "execution_count": 42,
   "id": "c3114747",
   "metadata": {},
   "outputs": [
    {
     "data": {
      "text/plain": [
       "<AxesSubplot:xlabel='title_length', ylabel='responses'>"
      ]
     },
     "execution_count": 42,
     "metadata": {},
     "output_type": "execute_result"
    },
    {
     "data": {
      "image/png": "[encoded data removed]",
      "text/plain": [
       "<Figure size 1440x576 with 1 Axes>"
      ]
     },
     "metadata": {
      "needs_background": "light"
     },
     "output_type": "display_data"
    }
   ],
   "source": [
    "fig = plt.gcf()\n",
    "fig.set_size_inches(20, 8)\n",
    "sns.scatterplot(medium_df[\"title_length\"],medium_df[\"responses\"])"
   ]
  },
  {
   "cell_type": "markdown",
   "id": "57d7eb48",
   "metadata": {},
   "source": [
    "<b>Conclusion and Inference:<b>"
   ]
  },
  {
   "cell_type": "markdown",
   "id": "6637ffee",
   "metadata": {},
   "source": [
    "1. The \"Startup Publication\" posted most number of articles in year 2020 whereas \"Better Human\" posted the least number of articles\n",
    "\n",
    "2. Although, Better Humans have posted least number of articles, they have got better claps and responses than other publications. It can be inferred that Better Humans post articles on the topic which interests user more.\n",
    "\n",
    "3. May and October are the months in which more number of articles are published compared to other months\n",
    "\n",
    "4. Wednesday have frequent number of articles published.\n",
    "\n",
    "5. An articles with reading time of between 4-8 mins and title length of 25-75 characters have better chance of getting claps and responses"
   ]
  }
 ],
 "metadata": {
  "kernelspec": {
   "display_name": "Python 3",
   "language": "python",
   "name": "python3"
  },
  "language_info": {
   "codemirror_mode": {
    "name": "ipython",
    "version": 3
   },
   "file_extension": ".py",
   "mimetype": "text/x-python",
   "name": "python",
   "nbconvert_exporter": "python",
   "pygments_lexer": "ipython3",
   "version": "3.8.8"
  }
 },
 "nbformat": 4,
 "nbformat_minor": 5
}
